{
 "cells": [
  {
   "cell_type": "markdown",
   "metadata": {},
   "source": [
    "# Function that finds sum of two arrays"
   ]
  },
  {
   "cell_type": "code",
   "execution_count": 9,
   "metadata": {},
   "outputs": [],
   "source": [
    "array1 = [1, 2, 3]\n",
    "array2 = [10, 15, 20]"
   ]
  },
  {
   "cell_type": "code",
   "execution_count": 10,
   "metadata": {},
   "outputs": [
    {
     "name": "stdout",
     "output_type": "stream",
     "text": [
      "[11, 17, 23]\n"
     ]
    }
   ],
   "source": [
    "def array_sum(x, y):\n",
    "    z = [i+j for i,j in zip(x,y)]\n",
    "    return z \n",
    "print(array_sum(array1,array2))"
   ]
  },
  {
   "cell_type": "code",
   "execution_count": 15,
   "metadata": {},
   "outputs": [
    {
     "name": "stdout",
     "output_type": "stream",
     "text": [
      "100\n"
     ]
    }
   ],
   "source": [
    "def element_mult_add(x, y):\n",
    "    ''' calculate the product of two list and then find the sum of the numbers in the list'''\n",
    "    z = [i*j for i,j in zip(x,y)]\n",
    "    counter = 0\n",
    "    for item in z:\n",
    "        counter += item\n",
    "        \n",
    "    return counter\n",
    "print(element_mult_add(array1, array2))"
   ]
  },
  {
   "cell_type": "markdown",
   "metadata": {},
   "source": [
    "Or you can do it without a list comprehension"
   ]
  },
  {
   "cell_type": "code",
   "execution_count": 18,
   "metadata": {},
   "outputs": [
    {
     "name": "stdout",
     "output_type": "stream",
     "text": [
      "100\n"
     ]
    }
   ],
   "source": [
    "def element_multi_add(x,y):\n",
    "    N = len(x)\n",
    "    z = []\n",
    "    for i in range(N):\n",
    "        z.append(x[i]*y[i])\n",
    "    \n",
    "    counter = 0    \n",
    "    for item in z:\n",
    "        counter += item\n",
    "    return counter\n",
    "print(element_multi_add(array1, array2))       "
   ]
  },
  {
   "cell_type": "code",
   "execution_count": 22,
   "metadata": {},
   "outputs": [
    {
     "name": "stdout",
     "output_type": "stream",
     "text": [
      "2.0\n"
     ]
    }
   ],
   "source": [
    "import numpy as np\n",
    "\n",
    "def mean_square_error(a):\n",
    "    '''for a given list return a[i]-mean(a)^2 and then find the sum of that list'''\n",
    "    m = np.mean(a)\n",
    "    n = [(i-m)**2 for i in a]\n",
    "    # sum(n)\n",
    "    counter = 0\n",
    "    for item in n:\n",
    "        counter += item\n",
    "    return counter\n",
    "print(mean_square_error(array1))"
   ]
  },
  {
   "cell_type": "code",
   "execution_count": 24,
   "metadata": {},
   "outputs": [
    {
     "name": "stdout",
     "output_type": "stream",
     "text": [
      "[1.5, 2.0, 2.5]\n"
     ]
    }
   ],
   "source": [
    "def y_pred(a, w1, w0):\n",
    "    ''' for given a and scalar w, and w return a list ypred[i' = w1a[i] = w1a[i]+w0'''\n",
    "    '''where each element is being multiplied by w1 and added by w0'''\n",
    "    return [i*w1 + w0 for i in a]\n",
    "    \n",
    "print(y_pred(array1, .5, 1))\n",
    "    "
   ]
  },
  {
   "cell_type": "code",
   "execution_count": null,
   "metadata": {},
   "outputs": [],
   "source": []
  }
 ],
 "metadata": {
  "kernelspec": {
   "display_name": "Python 3",
   "language": "python",
   "name": "python3"
  },
  "language_info": {
   "codemirror_mode": {
    "name": "ipython",
    "version": 3
   },
   "file_extension": ".py",
   "mimetype": "text/x-python",
   "name": "python",
   "nbconvert_exporter": "python",
   "pygments_lexer": "ipython3",
   "version": "3.7.3"
  }
 },
 "nbformat": 4,
 "nbformat_minor": 2
}
