{
 "cells": [
  {
   "cell_type": "markdown",
   "metadata": {},
   "source": [
    "# HW2 - Probability:\n",
    "\n",
    "In this assignment, we will calculate the chance of getting a specific outcome from probabilistic events on piece of paper and then write a function to verify that our paper calculations are correct.\n",
    "\n",
    "## Problem To Solve \n",
    "\n",
    "We have a coin that we want to flip. We know the following about the coin:\n",
    "\n",
    "- The probability of getting a 'Head' is $P(H) = a$\n",
    "- The probability of getting a 'Tail' is $P(T) = 1 - a$\n",
    "\n",
    "$a$ can be any decimal number between 0 and 1. For example, if $a = 0.5$, then it is a fair coin.\n",
    "\n",
    "**Given the above probabilities for $P(H)$ and $P(T)$, if we toss this coin three times, what is the probability that we get some combination of two heads and one tail?**\n",
    "\n",
    "## Part 1 - Paper Calculation\n",
    "\n",
    "Calculate this probability on a piece of paper. Show your answer in terms of $a$\n",
    "\n",
    "_Make sure to show your work, and when you're finished, take a picture to upload to your GitHub repo_\n",
    "\n",
    "\n",
    "## Part 2\n",
    "\n",
    "Write a function `verify_head` that we will use to verify if your paper solution is correct. Your function should have two parameters: \n",
    "    \n",
    "- `prob_head`: Probability of getting a 'Head' (type: `float`)\n",
    "- `num_flips`: Number of times we flip the coin (type: `integer`)\n",
    "\n",
    "**Your function should then return the probability (float) of tossing a coin `num_flips` times and getting some combination of two heads and one tail, given that we know the probability of getting a heads is `prob_head`**\n",
    "\n",
    "\n",
    "## Requirements\n",
    "\n",
    "To pass this assignment, you must fulfuill the following requirements:\n",
    "\n",
    "1. You must upload a picture of your own, original work showing how you calculated the probability of getting two heads\n",
    "1. Your function must take in two parameters: the probability of getting Heads, and the number of flips.\n",
    "1. Your function must return the correct decimal number (float) that corresponds to the probability of getting the input number of heads based on the input number of trials\n",
    "    1. Note that your return value may differ slightly from the hand-calculated value, but they should be at least the same for the first 1-2 decimals if you use a `num_flips` value between 1000-2000\n",
    "\n",
    "\n",
    "## Turning In Your HW\n",
    "\n",
    "Once you have finished your assignment, provide a link to your repo on GitHub and place the link in the appropriate HW2 column in the progress tracker. See the syllabus for more details on submission links\n",
    "\n",
    "\n",
    "## Hints: \n",
    "\n",
    "- Using a `num_flips` of 1000 (or higher!) is a good test number, as the probability will better align with what you get in your hand-calculated value\n",
    "- For Part 2, we can generate events with given probabilities as follows. Think about how you could use this for your function:"
   ]
  },
  {
   "cell_type": "code",
   "execution_count": 353,
   "metadata": {},
   "outputs": [
    {
     "name": "stdout",
     "output_type": "stream",
     "text": [
      "['H']\n",
      "['T']\n",
      "['T']\n",
      "['T']\n",
      "['H']\n",
      "['T']\n",
      "['T']\n",
      "['T']\n",
      "['H']\n",
      "['T']\n"
     ]
    }
   ],
   "source": [
    "from random import choices\n",
    "\n",
    "event = ['H', 'T']\n",
    "\n",
    "# Here we are saying the probability of getting Heads is 0.3,\n",
    "# and that the probability of getting Tails is 0.7\n",
    "weights = [0.3, 0.7]\n",
    "\n",
    "for _ in range(10):\n",
    "    print(choices(event, weights))\n",
    "    \n",
    "# Look at the below print statement.\n",
    "# The number of Heads should be roughly 30%\n",
    "# and the number of Tails should be roughly 70%\n",
    "# You can change the range above to get more values,\n",
    "# and see the percentage increase"
   ]
  },
  {
   "cell_type": "code",
   "execution_count": 398,
   "metadata": {},
   "outputs": [
    {
     "name": "stdout",
     "output_type": "stream",
     "text": [
      "0.1249\n"
     ]
    }
   ],
   "source": [
    "def verify_head(prob_heads, num_flips):\n",
    "    event = ['H', 'T']\n",
    "    weights = [prob_heads, 1-prob_heads]\n",
    "    HHT = []\n",
    "    for _ in range(num_flips):\n",
    "        flips = ''.join([choices(event, weights)[0] for _ in range(0, 3)])\n",
    "        if flips == 'HHT':\n",
    "            HHT.append(flips)\n",
    "    return len(HHT) / num_flips\n",
    "print(verify_head(.5, 10000))"
   ]
  },
  {
   "cell_type": "code",
   "execution_count": 262,
   "metadata": {},
   "outputs": [
    {
     "name": "stdout",
     "output_type": "stream",
     "text": [
      "0.6666666666666666\n"
     ]
    }
   ],
   "source": [
    "import random\n",
    "def probability_flip():\n",
    "    heads = 0\n",
    "    for i in range(3): \n",
    "        #a = random.random()\n",
    "        if random.random() <= .5:\n",
    "            heads+=1\n",
    "    return (heads/3)\n",
    "print(probability_flip())      \n",
    "# def simulation(n):\n",
    "#     trials = []\n",
    "#     for i in range(n):\n",
    "#         trials.append(probability_flip())\n",
    "#     print(trials)\n",
    "#     return (sum(trials)/n)\n",
    "# print(simulation(1))"
   ]
  },
  {
   "cell_type": "code",
   "execution_count": 345,
   "metadata": {},
   "outputs": [
    {
     "name": "stdout",
     "output_type": "stream",
     "text": [
      "False\n"
     ]
    }
   ],
   "source": [
    "def verify_head(prob_heads, num_flips):\n",
    "    count = 0\n",
    "    trials = []\n",
    "    for _ in range(num_flips):\n",
    "#         toss = True if random.random() < prob_heads else False\n",
    "        \n",
    "        toss = random.random()\n",
    "        if toss < prob_heads:\n",
    "            trials.append(toss)\n",
    "\n",
    "        \n",
    "            #trials.append(toss)\n",
    "        if len(trials) > 3:\n",
    "            del trials[0]\n",
    "        \n",
    "        if trials.count(True) == 2 and trials.count(False) == 1:\n",
    "            count +=1\n",
    "    return (count/num_flips)\n",
    "\n",
    "print(verify_head(.3, 3000))\n",
    "\n",
    "    \n",
    "        "
   ]
  },
  {
   "cell_type": "code",
   "execution_count": null,
   "metadata": {},
   "outputs": [],
   "source": [
    "\n",
    "def prob_heads(prob_heads, num_flips):\n",
    "    num_flips"
   ]
  },
  {
   "cell_type": "code",
   "execution_count": 286,
   "metadata": {},
   "outputs": [
    {
     "name": "stdout",
     "output_type": "stream",
     "text": [
      "Heads: 0.478\n"
     ]
    }
   ],
   "source": [
    "#Simulation of Coin Toss\n",
    "import random\n",
    "#simulations typically make use of random numbers \n",
    " \n",
    "n = 1000 #this value can easily be changed to change the sample size\n",
    "heads = 0\n",
    "tails = 0\n",
    " \n",
    "for i in range(n):\n",
    "    flip = random.randint(1,2) # get a random number between 1 and 2\n",
    "    if flip == 1: # head\n",
    "        heads = heads + 1\n",
    "    else:         # tail\n",
    "        tails = tails + 1\n",
    "prob_heads = heads/n\n",
    "print('Heads:', prob_heads)\n",
    "#print('Tails:', tails)\n",
    " \n",
    "#Extension: For a 'weighted' coin, the change is simple. Using the\n",
    "#random numbers works because we assume that each number in the range\n",
    "#has equal probability of being chosen, so in the range (1, 2), we have\n",
    "#two equal possibilities, which model the two equal possibilities for the\n",
    "#coin toss.\n",
    "#Now consider a coin that has 2/3 chance of getting H and 1/3 chance of\n",
    "#getting T. We can model this by choosing a random number from (1, 3) and\n",
    "#letting two of the numbers represent H and 1 represent T. "
   ]
  },
  {
   "cell_type": "code",
   "execution_count": null,
   "metadata": {},
   "outputs": [],
   "source": []
  }
 ],
 "metadata": {
  "kernelspec": {
   "display_name": "Python 3",
   "language": "python",
   "name": "python3"
  },
  "language_info": {
   "codemirror_mode": {
    "name": "ipython",
    "version": 3
   },
   "file_extension": ".py",
   "mimetype": "text/x-python",
   "name": "python",
   "nbconvert_exporter": "python",
   "pygments_lexer": "ipython3",
   "version": "3.7.4"
  }
 },
 "nbformat": 4,
 "nbformat_minor": 2
}
