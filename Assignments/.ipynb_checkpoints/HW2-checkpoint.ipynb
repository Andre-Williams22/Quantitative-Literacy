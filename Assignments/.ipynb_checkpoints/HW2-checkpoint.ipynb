{
 "cells": [
  {
   "cell_type": "markdown",
   "metadata": {},
   "source": [
    "## HW2:\n",
    "\n",
    "In this assignment, we learn how to calculate the chance of getting specific outcome from probabilistic events analytically (on piece of paper) and then write a code to verify we obtain the answer correct.\n",
    "\n",
    "**Problem**: We have a coin. The probability of getting 'Head' is P(H) = a and probability of getting 'Tail' is P(T) = 1 - a. \n",
    "\n",
    "We toss this coin three times. What is the probability that we get two heads?\n",
    "\n",
    "    - Calculate this probability from our learning on piece of paper\n",
    "    \n",
    "    - Write a code that shows you are correct. Your function should take two input arguments: \n",
    "    \n",
    "            Given probability of Head \n",
    "            \n",
    "            Given number of trials\n",
    "    \n",
    "Hint: For code part, we can generate events with given probability as follows:"
   ]
  },
  {
   "cell_type": "code",
   "execution_count": 57,
   "metadata": {},
   "outputs": [
    {
     "name": "stdout",
     "output_type": "stream",
     "text": [
      "['T']\n",
      "['T']\n",
      "['T']\n",
      "['H']\n",
      "['T']\n",
      "['T']\n",
      "['T']\n",
      "['H']\n",
      "['T']\n",
      "['T']\n"
     ]
    }
   ],
   "source": [
    "from random import choices\n",
    "\n",
    "event = ['H', 'T']\n",
    "\n",
    "weights = [0.3, 0.7]\n",
    "\n",
    "for _ in range(10):\n",
    "    print(choices(event, weights))"
   ]
  }
 ],
 "metadata": {
  "kernelspec": {
   "display_name": "Python 3",
   "language": "python",
   "name": "python3"
  },
  "language_info": {
   "codemirror_mode": {
    "name": "ipython",
    "version": 3
   },
   "file_extension": ".py",
   "mimetype": "text/x-python",
   "name": "python",
   "nbconvert_exporter": "python",
   "pygments_lexer": "ipython3",
   "version": "3.6.5"
  }
 },
 "nbformat": 4,
 "nbformat_minor": 2
}
