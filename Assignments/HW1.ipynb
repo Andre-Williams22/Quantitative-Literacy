{
 "cells": [
  {
   "cell_type": "markdown",
   "metadata": {},
   "source": [
    "## HW1:\n",
    "\n",
    "Covariance is a measure of how much two random variables vary together. For example, height and weight of giraffes have positive covariance because when one is big the other tends also to be big.\n",
    "\n",
    "In this assignment, we learn how to calculate the covariance matrix for given dataset.\n",
    "\n",
    "First, please watch this video: https://www.youtube.com/watch?v=0GzMcUy7ZI0\n",
    "\n",
    "Mathematically, Covariance: $Cov(X,Y)=1/n \\sum_{i=1}^{n}(x[i] - \\bar{x})(y[i] - \\bar{y})$ where $n$ is the number of elements in array $x$ and $y$\n",
    "\n",
    "Write a Python code that returns the covariance matrix for given dataset as we watched in the video or any other dataset\n",
    "\n",
    "Hint 1: Obtain the covariance between column $x$ and $y$, between column $x$ and $z$ and column $y$ and $z$\n",
    "\n",
    "Hint 2: Covariance between column $x$ and $y$ is the same as covariance between column $y$ and $x$. We can generalize this for any two columns\n",
    "\n",
    "Verify your code with numpy built-in `np.cov()` function as follows:"
   ]
  },
  {
   "cell_type": "code",
   "execution_count": 3,
   "metadata": {},
   "outputs": [
    {
     "name": "stdout",
     "output_type": "stream",
     "text": [
      "[[0.         0.         0.        ]\n",
      " [0.         1.66666667 1.16666667]\n",
      " [0.         1.16666667 0.91666667]]\n"
     ]
    }
   ],
   "source": [
    "import numpy as np\n",
    "\n",
    "def cov_matrix_calculation(data):\n",
    "    # calculate covariance matrix of the data\n",
    "    cov_matx = np.cov(data.T)\n",
    "    return cov_matx\n",
    "\n",
    "dataset = np.array([[1, 1, 1], [1, 2, 1], [1, 3, 2], [1, 4, 3]])\n",
    "print(cov_matrix_calculation(dataset))"
   ]
  },
  {
   "cell_type": "code",
   "execution_count": null,
   "metadata": {},
   "outputs": [],
   "source": []
  }
 ],
 "metadata": {
  "kernelspec": {
   "display_name": "Python 3",
   "language": "python",
   "name": "python3"
  },
  "language_info": {
   "codemirror_mode": {
    "name": "ipython",
    "version": 3
   },
   "file_extension": ".py",
   "mimetype": "text/x-python",
   "name": "python",
   "nbconvert_exporter": "python",
   "pygments_lexer": "ipython3",
   "version": "3.6.5"
  }
 },
 "nbformat": 4,
 "nbformat_minor": 2
}
