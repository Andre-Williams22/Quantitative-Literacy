{
 "cells": [
  {
   "cell_type": "markdown",
   "metadata": {},
   "source": [
    "# Learning Objectives\n",
    "\n",
    "By the end of this class, you will be able to...\n",
    "\n",
    "- Compute probability density functions and cumulative density functions\n",
    "- Use the `scipy.stats` package to compute the Survival Value or CDF Value for a known distribution"
   ]
  },
  {
   "cell_type": "code",
   "execution_count": 5,
   "metadata": {},
   "outputs": [],
   "source": [
    "import numpy as np \n",
    "import pandas as pd \n",
    "\n",
    "df = pd.read_csv('../titanic.csv')"
   ]
  },
  {
   "cell_type": "markdown",
   "metadata": {},
   "source": [
    "## Probability Distribution Function (PDF)\n",
    "\n",
    "First let's review the difference between discrete and continuous random variables:\n",
    "\n",
    "- **Discrete:** takes on a finite or countable number of values.\n",
    "- **Continuous:** takes on an infinite number of values\n",
    "\n",
    "Because continuous random variables can take on an infinite number of values, we can't say with certantiy what value the variable will be at any point, so we have to instead provide an **interval, or range** of values that the variable could be.\n",
    "\n",
    "### An Example\n",
    "For example, what's the probability that New York City get's 4 inches of snow on December 17th? 3.99999 and 4.0001 inches don't count, it has to be _exactly_ 4. It would be impossible to say with exact certainty given there are infinite decimals! However, if instead of looking for exactly 4, we looked at the range of values between 3.9 and 4.1, we could compute the probability for that range! This is where PDFs come in to help us calculate this!\n",
    "\n",
    "### Graphing PDFs\n",
    "When we graph a PDF, it has a similar pattern to a histogram. The main difference is that instead of the y-axis corresponding to values, it shows the percent probability of the x-axis values. This is known as _normalizing the values_."
   ]
  },
  {
   "cell_type": "markdown",
   "metadata": {},
   "source": [
    "## Activity: Reminder of how to Plot Histograms\n",
    "\n",
    "To start, let's plot the histogram for the Age of people on the Titanic. To do this, we'll use the [seaborn](https://seaborn.pydata.org/) library"
   ]
  },
  {
   "cell_type": "markdown",
   "metadata": {},
   "source": [
    "## Activity (Remind Histogram): Plot the Histogram of Age for Titanic Dataset"
   ]
  },
  {
   "cell_type": "code",
   "execution_count": 6,
   "metadata": {},
   "outputs": [
    {
     "data": {
      "text/plain": [
       "<matplotlib.axes._subplots.AxesSubplot at 0x11ce56310>"
      ]
     },
     "execution_count": 6,
     "metadata": {},
     "output_type": "execute_result"
    },
    {
     "data": {
      "image/png": "[encoded data removed]",
      "text/plain": [
       "<Figure size 432x288 with 1 Axes>"
      ]
     },
     "metadata": {
      "needs_background": "light"
     },
     "output_type": "display_data"
    }
   ],
   "source": [
    "import seaborn as sns\n",
    "# create a list of Age values not including N/A values\n",
    "ls_age = df['Age'].dropna()\n",
    "# Now plot the data in this list into a histogram!\n",
    "sns.distplot(ls_age, hist=True, kde=False, bins=16)"
   ]
  },
  {
   "cell_type": "markdown",
   "metadata": {},
   "source": [
    "- Lets now plot the PDF of the same data"
   ]
  },
  {
   "cell_type": "code",
   "execution_count": 7,
   "metadata": {},
   "outputs": [
    {
     "data": {
      "text/plain": [
       "<matplotlib.axes._subplots.AxesSubplot at 0x11f17c510>"
      ]
     },
     "execution_count": 7,
     "metadata": {},
     "output_type": "execute_result"
    },
    {
     "data": {
      "image/png": "[encoded data removed]",
      "text/plain": [
       "<Figure size 432x288 with 1 Axes>"
      ]
     },
     "metadata": {
      "needs_background": "light"
     },
     "output_type": "display_data"
    }
   ],
   "source": [
    "import seaborn as sns\n",
    "# Notice only the KDE parameter is different!\n",
    "# What does kde stand for? https://seaborn.pydata.org/generated/seaborn.distplot.html\n",
    "sns.distplot(df['Age'].dropna(), hist=True, kde=True, bins=16)"
   ]
  },
  {
   "cell_type": "markdown",
   "metadata": {},
   "source": [
    "## Activity: Proving our PDF\n",
    "\n",
    "We know that the y-axis shows the percent probability of the x-axis values. But where do the y-axis numbers come from? For example, for  Ages 20-25, why is the y-value around 0.030?\n",
    "\n",
    "Let's prove it!"
   ]
  },
  {
   "cell_type": "code",
   "execution_count": 8,
   "metadata": {},
   "outputs": [
    {
     "name": "stdout",
     "output_type": "stream",
     "text": [
      "80.0\n",
      "4.97375\n",
      "{(0.42, 5.39375): 44, (5.39375, 10.3675): 20, (10.3675, 15.34125): 19, (15.34125, 20.315): 96, (20.315, 25.28875): 122, (25.28875, 30.262500000000003): 108, (30.262500000000003, 35.23625): 88, (35.23625, 40.21): 67, (40.21, 45.18375): 47, (45.18375, 50.1575): 39, (50.1575, 55.13125): 24, (55.13125, 60.105000000000004): 18, (60.105000000000004, 65.07875): 14, (65.07875, 70.0525): 3, (70.0525, 75.02625): 4, (75.02625, 80.0): 1}\n"
     ]
    }
   ],
   "source": [
    "# custom histogram function, \n",
    "# Same as calling sns.distplot(ls_age, hist=True, kde=False, bins=16),\n",
    "# but instead of plotting, returns a dictionary with a RANGE as the key (20.315, 25.28875),\n",
    "# and TOTAL NUMBER OF VALUES IN THAT RANGE (122) as values\n",
    "def custom_hist(ls, interval):\n",
    "    hist_ls_dict = dict()\n",
    "    # min value in the range of values\n",
    "    min_ls = np.min(ls)\n",
    "    # max value in the range of values\n",
    "    max_ls = np.max(ls)\n",
    "    print(max_ls)\n",
    "    # distance between each bin\n",
    "    I = ((max_ls - min_ls) / interval)\n",
    "    print(I)\n",
    "    # Create the dictionary\n",
    "    for j in range(interval):\n",
    "#         print((min_ls + j*I, min_ls + (j+1) *I))\n",
    "#         print(np.sum(((min_ls + j*I) <=ls) & (ls <= (min_ls + (j+1) *I))))\n",
    "        hist_ls_dict[(min_ls + j*I, min_ls + (j+1) *I)]= np.sum(((min_ls + j*I) <=ls) & (ls <= (min_ls + (j+1) *I)))      \n",
    "    return hist_ls_dict\n",
    "        \n",
    "print(custom_hist(df['Age'].dropna().values, 16))"
   ]
  },
  {
   "cell_type": "markdown",
   "metadata": {},
   "source": [
    "Why is our `I` (the distance between each bin) not exactly 5? 80/16 = 5\n",
    "\n",
    "- Because our range doesn't start at 0! Our range starts at 0.42. `(80-0.42)/16 = 4.97375`"
   ]
  },
  {
   "cell_type": "code",
   "execution_count": 9,
   "metadata": {},
   "outputs": [
    {
     "name": "stdout",
     "output_type": "stream",
     "text": [
      "80.0\n",
      "4.97375\n"
     ]
    },
    {
     "data": {
      "text/plain": [
       "714"
      ]
     },
     "execution_count": 9,
     "metadata": {},
     "output_type": "execute_result"
    }
   ],
   "source": [
    "# Remember the two print statements in custom_hist!\n",
    "hist_dict = custom_hist(df['Age'].dropna().values, 16)\n",
    "# number of values in the histogram\n",
    "sum(hist_dict.values())"
   ]
  },
  {
   "cell_type": "markdown",
   "metadata": {},
   "source": [
    "We now know the following information:\n",
    "\n",
    "- The number of people whose ages fall between 20-25: 122\n",
    "- The total number of values in our dataset: 714\n",
    "- The distance between each bin: 4.97375"
   ]
  },
  {
   "cell_type": "code",
   "execution_count": 10,
   "metadata": {},
   "outputs": [
    {
     "data": {
      "text/plain": [
       "0.034354028115392926"
      ]
     },
     "execution_count": 10,
     "metadata": {},
     "output_type": "execute_result"
    }
   ],
   "source": [
    "122/714/4.97375"
   ]
  },
  {
   "cell_type": "markdown",
   "metadata": {},
   "source": [
    "## Activity: What percent of passengers are younger than 40?"
   ]
  },
  {
   "cell_type": "code",
   "execution_count": 11,
   "metadata": {},
   "outputs": [
    {
     "name": "stdout",
     "output_type": "stream",
     "text": [
      "0.7899159663865546\n"
     ]
    }
   ],
   "source": [
    "How_many_younger_40 = df[df['Age'] <= 40]\n",
    "pr_below_40 = len(How_many_younger_40)/len(df['Age'].dropna())\n",
    "print(pr_below_40)"
   ]
  },
  {
   "cell_type": "markdown",
   "metadata": {},
   "source": [
    "Only 3 lines of code! Now imagine you **only** had the PDF graph, and not access to the data.\n",
    "\n",
    "We'd have to calcualte the area of the graph in the range (0.42, 40), which is a very large area, and would be difficult to compute."
   ]
  },
  {
   "cell_type": "markdown",
   "metadata": {},
   "source": [
    "## It is not easy to calculate this percentage from PDF as we should compute the area"
   ]
  },
  {
   "cell_type": "markdown",
   "metadata": {},
   "source": [
    "## Cumulative Density Function (CDF)\n",
    "\n",
    "- In the above example, we could not easily obtain the percentage from a PDF, although it is possible.\n",
    "\n",
    "- This is much easier if we use a **CDF**. A CDF calculates the probability that a random variable is less than a threshold value\n",
    "\n",
    "- Let's learn CDF by example: given an array of numbers (our random variable) and a threshold value as input:\n",
    "\n",
    "    1. Find the minimum value in the array\n",
    "    1. Set the threshold to be the minimum value of the array\n",
    "    1. For a given array of numbers and a given threshold, count all of the elements in the array that are less than the threshold, and divide that count by the length of the array\n",
    "    1. Repeat step three, increasing the threshold by one, until you go through step three where threshold is equal to the maximum value in the array"
   ]
  },
  {
   "cell_type": "code",
   "execution_count": 16,
   "metadata": {},
   "outputs": [],
   "source": [
    "ls_age = df['Age'].dropna().values\n",
    "\n",
    "def calculate_cdf(x, threshold):\n",
    "    return np.sum(x <= threshold)\n",
    "\n",
    "# Create an array cdf_age where each value is the cdf of the age for each threshold\n",
    "\n",
    "cdf_age = []\n",
    "#Find the minimum value in the array\n",
    "min_val = np.min(ls_age)\n",
    "# Set the threshold to be the minimum value of the array\n",
    "threshold = np.min(ls_age)\n",
    "# For a given array of numbers and a given threshold, \n",
    "for r in range(int(np.min(ls_age)), int(np.max(ls_age))):\n",
    "    # count all of the elements in the array that are less than the threshold,\n",
    "    less_than_threshold = calculate_cdf(ls_age, r)\n",
    "    #  and divide that count by the length of the array\n",
    "    age_value = less_than_threshold/len(ls_age)\n",
    "    \n",
    "    cdf_age.append(age_value)\n",
    "    # Repeat, increasing the threshold by one,\n",
    "    # until the threshold is equal to the maximum value in the array"
   ]
  },
  {
   "cell_type": "code",
   "execution_count": 17,
   "metadata": {},
   "outputs": [
    {
     "data": {
      "image/png": "[encoded data removed]",
      "text/plain": [
       "<Figure size 432x288 with 1 Axes>"
      ]
     },
     "metadata": {
      "needs_background": "light"
     },
     "output_type": "display_data"
    }
   ],
   "source": [
    "import matplotlib.pyplot as plt\n",
    "\n",
    "plt.plot(range(int(np.min(ls_age)), int(np.max(ls_age))), cdf_age)\n",
    "plt.grid()"
   ]
  },
  {
   "cell_type": "markdown",
   "metadata": {},
   "source": [
    "## Use Seaborn or Matplotlib to plot CDF of Age "
   ]
  },
  {
   "cell_type": "code",
   "execution_count": 36,
   "metadata": {},
   "outputs": [
    {
     "ename": "ModuleNotFoundError",
     "evalue": "No module named 'statsmodels'",
     "output_type": "error",
     "traceback": [
      "\u001b[0;31m---------------------------------------------------------------------------\u001b[0m",
      "\u001b[0;31mModuleNotFoundError\u001b[0m                       Traceback (most recent call last)",
      "\u001b[0;32m<ipython-input-36-6e5d95ace61d>\u001b[0m in \u001b[0;36m<module>\u001b[0;34m\u001b[0m\n\u001b[0;32m----> 1\u001b[0;31m \u001b[0;32mimport\u001b[0m \u001b[0mstatsmodels\u001b[0m\u001b[0;34m\u001b[0m\u001b[0;34m\u001b[0m\u001b[0m\n\u001b[0m\u001b[1;32m      2\u001b[0m \u001b[0msns\u001b[0m\u001b[0;34m.\u001b[0m\u001b[0mdistplot\u001b[0m\u001b[0;34m(\u001b[0m\u001b[0mdf\u001b[0m\u001b[0;34m[\u001b[0m\u001b[0;34m'Age'\u001b[0m\u001b[0;34m]\u001b[0m\u001b[0;34m.\u001b[0m\u001b[0mdropna\u001b[0m\u001b[0;34m(\u001b[0m\u001b[0;34m)\u001b[0m\u001b[0;34m,\u001b[0m \u001b[0mhist_kws\u001b[0m\u001b[0;34m=\u001b[0m\u001b[0mdict\u001b[0m\u001b[0;34m(\u001b[0m\u001b[0mcumulative\u001b[0m\u001b[0;34m=\u001b[0m\u001b[0;32mTrue\u001b[0m\u001b[0;34m)\u001b[0m\u001b[0;34m,\u001b[0m \u001b[0mkde_kws\u001b[0m\u001b[0;34m=\u001b[0m\u001b[0mdict\u001b[0m\u001b[0;34m(\u001b[0m\u001b[0mcumulative\u001b[0m\u001b[0;34m=\u001b[0m\u001b[0;32mTrue\u001b[0m\u001b[0;34m)\u001b[0m\u001b[0;34m)\u001b[0m\u001b[0;34m\u001b[0m\u001b[0;34m\u001b[0m\u001b[0m\n",
      "\u001b[0;31mModuleNotFoundError\u001b[0m: No module named 'statsmodels'"
     ]
    }
   ],
   "source": [
    "import statsmodels\n",
    "sns.distplot(df['Age'].dropna(), hist_kws=dict(cumulative=True), kde_kws=dict(cumulative=True))"
   ]
  },
  {
   "cell_type": "code",
   "execution_count": 31,
   "metadata": {},
   "outputs": [
    {
     "data": {
      "text/plain": [
       "<matplotlib.axes._subplots.AxesSubplot at 0x121cc2550>"
      ]
     },
     "execution_count": 31,
     "metadata": {},
     "output_type": "execute_result"
    },
    {
     "data": {
      "image/png": "[encoded data removed]",
      "text/plain": [
       "<Figure size 432x288 with 1 Axes>"
      ]
     },
     "metadata": {
      "needs_background": "light"
     },
     "output_type": "display_data"
    }
   ],
   "source": [
    "df['Age'].dropna().hist(cumulative=True, density=True)"
   ]
  },
  {
   "cell_type": "markdown",
   "metadata": {},
   "source": [
    "## More about PDF\n",
    "\n",
    "Sometimes we'll have more than one data sets we want to graph. For example, if we want to show the age of both male and female passengers.\n",
    "\n",
    "PDFs can be displayed an alternative way when we have 2 or more lists, as seen in the example below:"
   ]
  },
  {
   "cell_type": "code",
   "execution_count": 21,
   "metadata": {},
   "outputs": [
    {
     "data": {
      "text/plain": [
       "<matplotlib.axes._subplots.AxesSubplot at 0x121a53610>"
      ]
     },
     "execution_count": 21,
     "metadata": {},
     "output_type": "execute_result"
    },
    {
     "data": {
      "image/png": "[encoded data removed]",
      "text/plain": [
       "<Figure size 432x288 with 1 Axes>"
      ]
     },
     "metadata": {
      "needs_background": "light"
     },
     "output_type": "display_data"
    }
   ],
   "source": [
    "sns.violinplot(x=\"Sex\", y=\"Age\", data=df)"
   ]
  },
  {
   "cell_type": "markdown",
   "metadata": {},
   "source": [
    "If you look at it sideways (tilt your head), it looks similar to the first PDF we saw!"
   ]
  },
  {
   "cell_type": "markdown",
   "metadata": {},
   "source": [
    "## Normal Distribution\n",
    "\n",
    "When we plot histograms or PDFs from an array, we may occasionally get graphs that have a _perfect_ bell shape curve. Histograms that have this shape have **normal distributions!**\n",
    "\n",
    "These graphs are helpful because their shape allows us to easily compute the area!\n",
    "\n",
    "An example of a PDF with a normal distibution is given below:"
   ]
  },
  {
   "cell_type": "code",
   "execution_count": 69,
   "metadata": {},
   "outputs": [
    {
     "data": {
      "text/plain": [
       "<matplotlib.axes._subplots.AxesSubplot at 0x1233cf250>"
      ]
     },
     "execution_count": 69,
     "metadata": {},
     "output_type": "execute_result"
    },
    {
     "data": {
      "image/png": "[encoded data removed]",
      "text/plain": [
       "<Figure size 432x288 with 1 Axes>"
      ]
     },
     "metadata": {
      "needs_background": "light"
     },
     "output_type": "display_data"
    }
   ],
   "source": [
    "import numpy as np\n",
    "import seaborn as sns\n",
    "\n",
    "# Generate 1000 samples with 60 as its mean and 10 as its std\n",
    "a = np.random.normal(60, 10, 1000)\n",
    "sns.distplot(a, hist=True, kde=True, bins=20)"
   ]
  },
  {
   "cell_type": "markdown",
   "metadata": {},
   "source": [
    "### **Note that the _entire area is always equal to 1 for any PDF._**"
   ]
  },
  {
   "cell_type": "code",
   "execution_count": 72,
   "metadata": {},
   "outputs": [
    {
     "name": "stdout",
     "output_type": "stream",
     "text": [
      "60.063152846634935\n",
      "10.281516350810838\n",
      "1000\n"
     ]
    }
   ],
   "source": [
    "print(np.mean(a))\n",
    "print(np.std(a))\n",
    "print(len(a))"
   ]
  },
  {
   "cell_type": "markdown",
   "metadata": {},
   "source": [
    "## Activity: \n",
    "\n",
    "The DS 1.1 instructor just finished grading the final exam. He is reporting that the mean was 60 (with the possible score range from 0 to 100) with standard deviation of 10.\n",
    "\n",
    "What is the probability that students got more than 70? Assume that the instructor plotted the PDF of the data and it was _normal_\n",
    "\n",
    "**Hint:** If we can obtain area of the graph for everything less than 70, that's the same as getting the CDF at 70! How would this be useful?\n",
    "**Hint:** look into this [library from the  scipy.stats documentation](https://docs.scipy.org/doc/scipy/reference/generated/scipy.stats.norm.html#scipy.stats.norm). It may be helpful :) "
   ]
  },
  {
   "cell_type": "code",
   "execution_count": 77,
   "metadata": {},
   "outputs": [
    {
     "name": "stdout",
     "output_type": "stream",
     "text": [
      "0.15865525393145707\n"
     ]
    }
   ],
   "source": [
    "from scipy.stats import norm\n",
    "\n",
    "#print(1 - norm.cdf(70, loc=60, scale=10))\n",
    "\n",
    "# or\n",
    "\n",
    "print(norm.sf(70, loc=60, scale=10))"
   ]
  },
  {
   "cell_type": "markdown",
   "metadata": {},
   "source": [
    "This area we just calculated is called the _survival_"
   ]
  },
  {
   "cell_type": "markdown",
   "metadata": {},
   "source": [
    "## Normal Distribution Properties:\n",
    "\n",
    "When the data is Normally distributed:\n",
    "\n",
    "- 68% of the data is captured within one standard deviation from the mean.\n",
    "- 95% of the data is captured within two standard deviations from the mean.\n",
    "- 99.7% of the data is captured within three standard deviations from the mean."
   ]
  },
  {
   "cell_type": "markdown",
   "metadata": {},
   "source": [
    "<br><img src=\"http://www.oswego.edu/~srp/stats/images/normal_34.gif\" /><br>"
   ]
  },
  {
   "cell_type": "markdown",
   "metadata": {},
   "source": [
    "## Activity:\n",
    "\n",
    "Let's prove that these normal distribution properties are true. Show that about 68% of the values in our previous DS final exam example are in the [50, 70] range\n"
   ]
  },
  {
   "cell_type": "code",
   "execution_count": 101,
   "metadata": {},
   "outputs": [
    {
     "name": "stdout",
     "output_type": "stream",
     "text": [
      "0.703\n",
      "0.956\n"
     ]
    },
    {
     "data": {
      "image/png": "[encoded data removed]",
      "text/plain": [
       "<Figure size 432x288 with 1 Axes>"
      ]
     },
     "metadata": {
      "needs_background": "light"
     },
     "output_type": "display_data"
    }
   ],
   "source": [
    "import seaborn as sns\n",
    "import numpy as np\n",
    "\n",
    "a = np.random.normal(60, 10, 1000)\n",
    "sns.distplot(a, hist=True, kde=True, bins=40)\n",
    "b = np.random.normal(60, 10, 1000)\n",
    "sns.distplot(b, hist=True, kde=True, bins=40)\n",
    "\n",
    "#norm.cdf(70, loc=60, scale=10) - norm.cdf(50, loc=60, scale=10)\n",
    "\n",
    "def percentage_a(lower, upper, a):\n",
    "    counter = 0\n",
    "    for item in a:\n",
    "        if item >= 50 and item <= 70:\n",
    "            counter += 1      \n",
    "    return (counter/len(a))\n",
    "            \n",
    "def percentage_b(lower, upper, b):\n",
    "    counter = 0\n",
    "    for item in b:\n",
    "        if item >= 40 and item <= 80:\n",
    "            counter += 1      \n",
    "    return(counter / len(b))\n",
    "\n",
    "print(percentage_a(50, 70, a))\n",
    "print(percentage_b(40, 80, b))"
   ]
  },
  {
   "cell_type": "markdown",
   "metadata": {},
   "source": [
    "## Scaling the Normal Ditribution\n",
    "\n",
    "We can take any list of values which are normally distribute and apply simple arithmatic on the list such that the mean is 0 and the standard deviation is 1 for our new transformed list. We can do this through following the steps below:\n",
    "\n",
    "For each of the values in the list, we will need to _subtract the mean of list from the value, and divide this difference by the standard deviation_\n",
    "\n",
    "Let's walk through this using the DS final exam data and normally distributing it:"
   ]
  },
  {
   "cell_type": "code",
   "execution_count": 73,
   "metadata": {},
   "outputs": [
    {
     "data": {
      "text/plain": [
       "0.966713491913432"
      ]
     },
     "execution_count": 73,
     "metadata": {},
     "output_type": "execute_result"
    },
    {
     "data": {
      "image/png": "[encoded data removed]",
      "text/plain": [
       "<Figure size 432x288 with 1 Axes>"
      ]
     },
     "metadata": {
      "needs_background": "light"
     },
     "output_type": "display_data"
    }
   ],
   "source": [
    "# Our list of exam scores with mean = 60, and std = 10\n",
    "exam_scores = np.random.normal(60, 10, 1000)\n",
    "\n",
    "normalized_scores = []\n",
    "for score in exam_scores:\n",
    "    # subtract the mean of list from the value, \n",
    "    # and divide this difference by the standard deviation\n",
    "    normal_score = (score - 60)/10\n",
    "    normalized_scores.append(normal_score)\n",
    "\n",
    "sns.distplot(normalized_scores, hist=True, kde=True, bins=20)\n",
    "\n",
    "np.mean(normalized_scores)\n",
    "np.std(normalized_scores)"
   ]
  },
  {
   "cell_type": "code",
   "execution_count": 82,
   "metadata": {},
   "outputs": [
    {
     "name": "stdout",
     "output_type": "stream",
     "text": [
      "0.04979512383185349\n"
     ]
    }
   ],
   "source": [
    "exam_scores = np.random.normal(60, 10, 1000)\n",
    "for item in exam_scores:\n",
    "    if item >= .7:\n",
    "        num = item\n",
    "    \n",
    "print(num/len(exam_scores))\n"
   ]
  },
  {
   "cell_type": "markdown",
   "metadata": {},
   "source": [
    "## Z-Distribution \n",
    "\n",
    "**Z-distribution is another name for standard Normal distribution!** This is what we just calculated in the last example!\n",
    "\n",
    "Following the process as outlined above will allow you to calculate the z-distribution of a data set!"
   ]
  },
  {
   "cell_type": "code",
   "execution_count": null,
   "metadata": {},
   "outputs": [],
   "source": []
  }
 ],
 "metadata": {
  "kernelspec": {
   "display_name": "Python 3",
   "language": "python",
   "name": "python3"
  },
  "language_info": {
   "codemirror_mode": {
    "name": "ipython",
    "version": 3
   },
   "file_extension": ".py",
   "mimetype": "text/x-python",
   "name": "python",
   "nbconvert_exporter": "python",
   "pygments_lexer": "ipython3",
   "version": "3.7.4"
  }
 },
 "nbformat": 4,
 "nbformat_minor": 2
}
